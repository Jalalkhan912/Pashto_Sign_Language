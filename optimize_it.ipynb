{
 "cells": [
  {
   "cell_type": "code",
   "execution_count": 1,
   "id": "55db1947",
   "metadata": {},
   "outputs": [],
   "source": [
    "import numpy as np\n",
    "import torch\n",
    "import torch.nn as nn\n",
    "import time\n",
    "import joblib"
   ]
  },
  {
   "cell_type": "code",
   "execution_count": 2,
   "id": "0c4f6970",
   "metadata": {},
   "outputs": [
    {
     "name": "stdout",
     "output_type": "stream",
     "text": [
      "🕒 Original model average inference time: 0.2072 ms\n",
      "✅ TorchScript model saved as gesture_classifier_traced.pt\n",
      "⚡ TorchScript model average inference time: 0.0932 ms\n",
      "🚀 Speedup: 2.22x\n"
     ]
    }
   ],
   "source": [
    "# --------- 1. Define the same model structure ---------\n",
    "class GestureClassifier(nn.Module):\n",
    "    def __init__(self, input_size=63, num_classes=5):  # <-- adjust num_classes if needed\n",
    "        super(GestureClassifier, self).__init__()\n",
    "        self.model = nn.Sequential(\n",
    "            nn.Linear(input_size, 128),\n",
    "            nn.ReLU(),\n",
    "            nn.Dropout(0.3),\n",
    "            nn.Linear(128, 64),\n",
    "            nn.ReLU(),\n",
    "            nn.Dropout(0.2),\n",
    "            nn.Linear(64, num_classes)\n",
    "        )\n",
    "\n",
    "    def forward(self, x):\n",
    "        return self.model(x)\n",
    "\n",
    "# --------- 2. Load the original model ---------\n",
    "input_size = 63\n",
    "model = GestureClassifier(input_size=input_size, num_classes=joblib.load('label_encoder.pkl').classes_.shape[0])\n",
    "model.load_state_dict(torch.load(\"gesture_classifier.pth\"))\n",
    "model.eval()\n",
    "\n",
    "# --------- 3. Generate dummy input ---------\n",
    "scaler = joblib.load('scaler.pkl')\n",
    "dummy_np = np.random.rand(1, input_size).astype(np.float32)\n",
    "dummy_scaled = scaler.transform(dummy_np)\n",
    "dummy_tensor = torch.from_numpy(dummy_scaled)\n",
    "\n",
    "# --------- 4. Benchmark original model ---------\n",
    "def benchmark_model(model, input_tensor, runs=1000):\n",
    "    with torch.no_grad():\n",
    "        start_time = time.time()\n",
    "        for _ in range(runs):\n",
    "            _ = model(input_tensor)\n",
    "        end_time = time.time()\n",
    "    avg_time_ms = (end_time - start_time) / runs * 1000\n",
    "    return avg_time_ms\n",
    "\n",
    "original_time = benchmark_model(model, dummy_tensor)\n",
    "print(f\"🕒 Original model average inference time: {original_time:.4f} ms\")\n",
    "\n",
    "# --------- 5. Convert to TorchScript using tracing ---------\n",
    "traced_model = torch.jit.trace(model, dummy_tensor)\n",
    "torch.jit.save(traced_model, \"gesture_classifier_traced.pt\")\n",
    "print(\"✅ TorchScript model saved as gesture_classifier_traced.pt\")\n",
    "\n",
    "# --------- 6. Load and benchmark TorchScript model ---------\n",
    "optimized_model = torch.jit.load(\"gesture_classifier_traced.pt\")\n",
    "optimized_model.eval()\n",
    "\n",
    "optimized_time = benchmark_model(optimized_model, dummy_tensor)\n",
    "print(f\"⚡ TorchScript model average inference time: {optimized_time:.4f} ms\")\n",
    "\n",
    "# --------- 7. Optional: Performance gain ---------\n",
    "speedup = original_time / optimized_time\n",
    "print(f\"🚀 Speedup: {speedup:.2f}x\")"
   ]
  },
  {
   "cell_type": "code",
   "execution_count": null,
   "id": "ae7d87fd",
   "metadata": {},
   "outputs": [],
   "source": []
  }
 ],
 "metadata": {
  "kernelspec": {
   "display_name": ".venv",
   "language": "python",
   "name": "python3"
  },
  "language_info": {
   "codemirror_mode": {
    "name": "ipython",
    "version": 3
   },
   "file_extension": ".py",
   "mimetype": "text/x-python",
   "name": "python",
   "nbconvert_exporter": "python",
   "pygments_lexer": "ipython3",
   "version": "3.9.22"
  }
 },
 "nbformat": 4,
 "nbformat_minor": 5
}
